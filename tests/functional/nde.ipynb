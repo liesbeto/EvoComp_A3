{
 "cells": [
  {
   "cell_type": "markdown",
   "id": "19a57bcf",
   "metadata": {},
   "source": [
    "# NDE: Neural Developmental Encodings"
   ]
  },
  {
   "cell_type": "code",
   "execution_count": 1,
   "id": "5da3f6a0",
   "metadata": {},
   "outputs": [],
   "source": [
    "# Standard library\n",
    "from pathlib import Path\n",
    "\n",
    "# Third party libraries\n",
    "import numpy as np\n",
    "\n",
    "# Local libraries\n",
    "from ariel.ec.genotypes.nde import NeuralDevelopmentalEncoding"
   ]
  },
  {
   "cell_type": "code",
   "execution_count": 2,
   "id": "7c8a577a",
   "metadata": {},
   "outputs": [],
   "source": [
    "# --- DATA SETUP ---\n",
    "CWD = Path.cwd()\n",
    "DATA = CWD / \"__data__\"\n",
    "DATA.mkdir(exist_ok=True)\n"
   ]
  },
  {
   "cell_type": "code",
   "execution_count": 3,
   "id": "fcd6d6a0",
   "metadata": {},
   "outputs": [],
   "source": [
    "# --- RANDOM GENERATOR SETUP --- #\n",
    "SEED = 42\n",
    "RNG = np.random.default_rng(SEED)"
   ]
  },
  {
   "cell_type": "code",
   "execution_count": 4,
   "id": "1bb8c602",
   "metadata": {},
   "outputs": [],
   "source": [
    "# Global variables\n",
    "SPAWN_POS = [-0.8, 0, 0.1]\n",
    "NUM_OF_MODULES = 30\n",
    "TARGET_POSITION = [5, 0, 0.5]"
   ]
  },
  {
   "cell_type": "code",
   "execution_count": 5,
   "id": "941d634c",
   "metadata": {},
   "outputs": [
    {
     "name": "stdout",
     "output_type": "stream",
     "text": [
      "Mean difference between phenotypes: 51.189\n"
     ]
    }
   ],
   "source": [
    "matrix_history = []\n",
    "for _i in range(500):\n",
    "    genotype_size = 64\n",
    "    type_p_genes = RNG.random(genotype_size).astype(np.float32)\n",
    "    conn_p_genes = RNG.random(genotype_size).astype(np.float32)\n",
    "    rot_p_genes = RNG.random(genotype_size).astype(np.float32)\n",
    "\n",
    "    genotype = [\n",
    "        type_p_genes,\n",
    "        conn_p_genes,\n",
    "        rot_p_genes,\n",
    "    ]\n",
    "\n",
    "    nde = NeuralDevelopmentalEncoding(number_of_modules=NUM_OF_MODULES)\n",
    "    p_matrices = nde.forward(genotype)\n",
    "    matrix_history.append(np.concatenate([p.flatten() for p in p_matrices]))\n",
    "\n",
    "sum_of_diff = 0\n",
    "for i in range(len(matrix_history)):\n",
    "    for j in range(i, len(matrix_history)):\n",
    "        if i != j:\n",
    "            sum_of_diff += np.sum(np.abs(matrix_history[i] - matrix_history[j]))\n",
    "\n",
    "mean = sum_of_diff / (len(matrix_history) * (len(matrix_history) - 1))\n",
    "print(f\"Mean difference between phenotypes: {mean:.3f}\")"
   ]
  },
  {
   "cell_type": "code",
   "execution_count": 6,
   "id": "38cf5ec6",
   "metadata": {},
   "outputs": [
    {
     "name": "stdout",
     "output_type": "stream",
     "text": [
      "Mean difference between phenotypes: 627.378\n"
     ]
    }
   ],
   "source": [
    "matrix_history = []\n",
    "for _i in range(500):\n",
    "    genotype_size = 64\n",
    "    type_p_genes = RNG.uniform(-100, 100, genotype_size).astype(np.float32)\n",
    "    conn_p_genes = RNG.uniform(-100, 100, genotype_size).astype(np.float32)\n",
    "    rot_p_genes = RNG.uniform(-100, 100, genotype_size).astype(np.float32)\n",
    "\n",
    "    genotype = [\n",
    "        type_p_genes,\n",
    "        conn_p_genes,\n",
    "        rot_p_genes,\n",
    "    ]\n",
    "\n",
    "    nde = NeuralDevelopmentalEncoding(number_of_modules=NUM_OF_MODULES)\n",
    "    p_matrices = nde.forward(genotype)\n",
    "    matrix_history.append(np.concatenate([p.flatten() for p in p_matrices]))\n",
    "\n",
    "sum_of_diff = 0\n",
    "for i in range(len(matrix_history)):\n",
    "    for j in range(i, len(matrix_history)):\n",
    "        if i != j:\n",
    "            sum_of_diff += np.sum(np.abs(matrix_history[i] - matrix_history[j]))\n",
    "\n",
    "mean = sum_of_diff / (len(matrix_history) * (len(matrix_history) - 1))\n",
    "print(f\"Mean difference between phenotypes: {mean:.3f}\")"
   ]
  }
 ],
 "metadata": {
  "kernelspec": {
   "display_name": "ariel4 (3.12.9)",
   "language": "python",
   "name": "python3"
  },
  "language_info": {
   "codemirror_mode": {
    "name": "ipython",
    "version": 3
   },
   "file_extension": ".py",
   "mimetype": "text/x-python",
   "name": "python",
   "nbconvert_exporter": "python",
   "pygments_lexer": "ipython3",
   "version": "3.12.9"
  }
 },
 "nbformat": 4,
 "nbformat_minor": 5
}
